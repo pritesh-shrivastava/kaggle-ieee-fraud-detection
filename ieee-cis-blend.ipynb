{
 "cells": [
  {
   "cell_type": "code",
   "execution_count": 1,
   "metadata": {
    "_cell_guid": "b1076dfc-b9ad-4769-8c92-a6c4dae69d19",
    "_uuid": "8f2839f25d086af736a60e9eeb907d3b93b6e0e5"
   },
   "outputs": [
    {
     "name": "stdout",
     "output_type": "stream",
     "text": [
      "/kaggle/input/ieee-top-models-blend/m15.csv\n",
      "/kaggle/input/ieee-top-models-blend/m18.csv\n",
      "/kaggle/input/ieee-top-models-blend/m16.csv\n",
      "/kaggle/input/ieee-top-models-blend/m17.csv\n",
      "/kaggle/input/ieee-top-models-blend/m19.csv\n",
      "/kaggle/input/ieee-top-models-blend/m20.csv\n",
      "/kaggle/input/ieee-top-models-blend/m0.csv\n",
      "/kaggle/input/ieee-fraud-detection/test_identity.csv\n",
      "/kaggle/input/ieee-fraud-detection/sample_submission.csv\n",
      "/kaggle/input/ieee-fraud-detection/train_identity.csv\n",
      "/kaggle/input/ieee-fraud-detection/train_transaction.csv\n",
      "/kaggle/input/ieee-fraud-detection/test_transaction.csv\n"
     ]
    }
   ],
   "source": [
    "# This Python 3 environment comes with many helpful analytics libraries installed\n",
    "# It is defined by the kaggle/python docker image: https://github.com/kaggle/docker-python\n",
    "# For example, here's several helpful packages to load in \n",
    "\n",
    "import numpy as np # linear algebra\n",
    "import pandas as pd # data processing, CSV file I/O (e.g. pd.read_csv)\n",
    "\n",
    "# Input data files are available in the \"../input/\" directory.\n",
    "# For example, running this (by clicking run or pressing Shift+Enter) will list all files under the input directory\n",
    "\n",
    "import os\n",
    "for dirname, _, filenames in os.walk('/kaggle/input'):\n",
    "    for filename in filenames:\n",
    "        print(os.path.join(dirname, filename))"
   ]
  },
  {
   "cell_type": "markdown",
   "metadata": {},
   "source": [
    "### Listing down useful single models"
   ]
  },
  {
   "cell_type": "markdown",
   "metadata": {
    "_cell_guid": "79c7e3d0-c299-4dcb-8224-4455121ee9b0",
    "_uuid": "d629ff2d2480ee46fbb7e2d37f6b5fab8052498a",
    "collapsed": true
   },
   "source": [
    "### LGB / XGB \n",
    "* m1 = k-fold xgb [0.9383] : https://www.kaggle.com/artkulak/ieee-fraud-simple-baseline-0-9383-lb\n",
    "* m2 = h20 automl [0.9395] : https://www.kaggle.com/tunguz/ieee-with-h2o-automl\n",
    "* m3 = lgb + fe [0.9408] : https://www.kaggle.com/kyakovlev/ieee-ground-baseline/output\n",
    "* m4 = lgb + bayesian tuning [ ] : [https://www.kaggle.com/vincentlugat/ieee-lgb-bayesian-opt/output]\n",
    "* m5 = lgb + feature selection [.9419]: [https://www.kaggle.com/nroman/lgb-single-model-lb-0-9419/output]\n",
    "* m6 = lgb + fe [0.9429] : [https://www.kaggle.com/timon88/lgbm-baseline-small-fe-no-blend/notebook]\n",
    "* m7 = lgb + fe : [0.9415] https://www.kaggle.com/plasticgrammer/ieee-cis-fraud-detection-playground/output\n",
    "* m8 = xgb + fe [] : https://www.kaggle.com/iasnobmatsu/xgb-model-with-feature-engineering\n",
    "* m9 = lgbm + gpu + bayesian hyperparameter opt [0.9430] : https://www.kaggle.com/nicapotato/gpyopt-hyperparameter-optimisation-gpu-lgbm/output\n",
    "* m10 = lgb in R [0.9437] : https://www.kaggle.com/andrew60909/lgb-starter-r/output\n",
    "* m11 = lgb + fe [0.9441] : https://www.kaggle.com/kyakovlev/ieee-ground-baseline-make-amount-useful-again\n",
    "* m12 = xgb + fe [0.9442] : https://www.kaggle.com/krishonaveen/xtreme-boost-and-feature-engineering/output\n",
    "* m13 = lgb + fe [0.9449] : https://www.kaggle.com/davidcairuz/feature-engineering-lightgbm-corrected/output\n",
    "* m14 = hst lgb + fe in R [0.94551] : https://www.kaggle.com/duykhanh99/hust-lgb-feature-engineering-with-r\n",
    "* m15 = lgbm + fe in R [0.9452] : https://www.kaggle.com/duykhanh99/lightgbm-fe-with-r\n",
    "* m17 = lgb [0.9463]: https://www.kaggle.com/roydatascience/light-gbm-with-complete-eda/output\n",
    "* m18 = lgb + new features [0.9467] : https://www.kaggle.com/gunesevitan/lightgbm-some-new-features\n",
    "* m19 = lgb + fe in R [0.9469] : https://www.kaggle.com/abednadir/best-r-score\n",
    "* m20 = lgb + group kfold cv [0.9483] : https://www.kaggle.com/kyakovlev/ieee-lgbm-with-groupkfold-cv\n",
    "\n",
    "### Catboost\n",
    "* m16 = catboost [0.9454] : https://www.kaggle.com/pipboyguy/catboost-and-eda/output\n",
    "\n",
    "\n",
    "### NN\n",
    "* m0 = nn + focal loss expt [0.92] : https://www.kaggle.com/abazdyrev/keras-nn-focal-loss-experiments"
   ]
  },
  {
   "cell_type": "code",
   "execution_count": 2,
   "metadata": {},
   "outputs": [
    {
     "data": {
      "text/html": [
       "<div>\n",
       "<style scoped>\n",
       "    .dataframe tbody tr th:only-of-type {\n",
       "        vertical-align: middle;\n",
       "    }\n",
       "\n",
       "    .dataframe tbody tr th {\n",
       "        vertical-align: top;\n",
       "    }\n",
       "\n",
       "    .dataframe thead th {\n",
       "        text-align: right;\n",
       "    }\n",
       "</style>\n",
       "<table border=\"1\" class=\"dataframe\">\n",
       "  <thead>\n",
       "    <tr style=\"text-align: right;\">\n",
       "      <th></th>\n",
       "      <th>TransactionID</th>\n",
       "      <th>isFraud</th>\n",
       "    </tr>\n",
       "  </thead>\n",
       "  <tbody>\n",
       "    <tr>\n",
       "      <th>0</th>\n",
       "      <td>3663549</td>\n",
       "      <td>0.5</td>\n",
       "    </tr>\n",
       "    <tr>\n",
       "      <th>1</th>\n",
       "      <td>3663550</td>\n",
       "      <td>0.5</td>\n",
       "    </tr>\n",
       "    <tr>\n",
       "      <th>2</th>\n",
       "      <td>3663551</td>\n",
       "      <td>0.5</td>\n",
       "    </tr>\n",
       "    <tr>\n",
       "      <th>3</th>\n",
       "      <td>3663552</td>\n",
       "      <td>0.5</td>\n",
       "    </tr>\n",
       "    <tr>\n",
       "      <th>4</th>\n",
       "      <td>3663553</td>\n",
       "      <td>0.5</td>\n",
       "    </tr>\n",
       "  </tbody>\n",
       "</table>\n",
       "</div>"
      ],
      "text/plain": [
       "   TransactionID  isFraud\n",
       "0        3663549      0.5\n",
       "1        3663550      0.5\n",
       "2        3663551      0.5\n",
       "3        3663552      0.5\n",
       "4        3663553      0.5"
      ]
     },
     "execution_count": 2,
     "metadata": {},
     "output_type": "execute_result"
    }
   ],
   "source": [
    "### LGB\n",
    "m15 = pd.read_csv('/kaggle/input/ieee-top-models-blend/m15.csv')\n",
    "m17 = pd.read_csv('/kaggle/input/ieee-top-models-blend/m17.csv')\n",
    "m18 = pd.read_csv('/kaggle/input/ieee-top-models-blend/m18.csv')\n",
    "m19 = pd.read_csv('/kaggle/input/ieee-top-models-blend/m19.csv')\n",
    "m20 = pd.read_csv('/kaggle/input/ieee-top-models-blend/m20.csv')\n",
    "### Catboost\n",
    "m16 = pd.read_csv('/kaggle/input/ieee-top-models-blend/m16.csv')\n",
    "### NN\n",
    "m0 = pd.read_csv('/kaggle/input/ieee-top-models-blend/m0.csv')\n",
    "\n",
    "submission = pd.read_csv(\"/kaggle/input/ieee-fraud-detection/sample_submission.csv\")\n",
    "submission.head()"
   ]
  },
  {
   "cell_type": "code",
   "execution_count": 3,
   "metadata": {},
   "outputs": [
    {
     "data": {
      "text/html": [
       "<div>\n",
       "<style scoped>\n",
       "    .dataframe tbody tr th:only-of-type {\n",
       "        vertical-align: middle;\n",
       "    }\n",
       "\n",
       "    .dataframe tbody tr th {\n",
       "        vertical-align: top;\n",
       "    }\n",
       "\n",
       "    .dataframe thead th {\n",
       "        text-align: right;\n",
       "    }\n",
       "</style>\n",
       "<table border=\"1\" class=\"dataframe\">\n",
       "  <thead>\n",
       "    <tr style=\"text-align: right;\">\n",
       "      <th></th>\n",
       "      <th>TransactionID</th>\n",
       "      <th>isFraud</th>\n",
       "    </tr>\n",
       "  </thead>\n",
       "  <tbody>\n",
       "    <tr>\n",
       "      <th>0</th>\n",
       "      <td>3663549</td>\n",
       "      <td>0.000588</td>\n",
       "    </tr>\n",
       "    <tr>\n",
       "      <th>1</th>\n",
       "      <td>3663550</td>\n",
       "      <td>0.000807</td>\n",
       "    </tr>\n",
       "    <tr>\n",
       "      <th>2</th>\n",
       "      <td>3663551</td>\n",
       "      <td>0.001072</td>\n",
       "    </tr>\n",
       "    <tr>\n",
       "      <th>3</th>\n",
       "      <td>3663552</td>\n",
       "      <td>0.001540</td>\n",
       "    </tr>\n",
       "    <tr>\n",
       "      <th>4</th>\n",
       "      <td>3663553</td>\n",
       "      <td>0.000613</td>\n",
       "    </tr>\n",
       "  </tbody>\n",
       "</table>\n",
       "</div>"
      ],
      "text/plain": [
       "   TransactionID   isFraud\n",
       "0        3663549  0.000588\n",
       "1        3663550  0.000807\n",
       "2        3663551  0.001072\n",
       "3        3663552  0.001540\n",
       "4        3663553  0.000613"
      ]
     },
     "execution_count": 3,
     "metadata": {},
     "output_type": "execute_result"
    }
   ],
   "source": [
    "m18.head()"
   ]
  },
  {
   "cell_type": "code",
   "execution_count": 4,
   "metadata": {},
   "outputs": [
    {
     "name": "stderr",
     "output_type": "stream",
     "text": [
      "/opt/conda/lib/python3.6/site-packages/tensorflow/python/framework/dtypes.py:516: FutureWarning: Passing (type, 1) or '1type' as a synonym of type is deprecated; in a future version of numpy, it will be understood as (type, (1,)) / '(1,)type'.\n",
      "  _np_qint8 = np.dtype([(\"qint8\", np.int8, 1)])\n",
      "/opt/conda/lib/python3.6/site-packages/tensorflow/python/framework/dtypes.py:517: FutureWarning: Passing (type, 1) or '1type' as a synonym of type is deprecated; in a future version of numpy, it will be understood as (type, (1,)) / '(1,)type'.\n",
      "  _np_quint8 = np.dtype([(\"quint8\", np.uint8, 1)])\n",
      "/opt/conda/lib/python3.6/site-packages/tensorflow/python/framework/dtypes.py:518: FutureWarning: Passing (type, 1) or '1type' as a synonym of type is deprecated; in a future version of numpy, it will be understood as (type, (1,)) / '(1,)type'.\n",
      "  _np_qint16 = np.dtype([(\"qint16\", np.int16, 1)])\n",
      "/opt/conda/lib/python3.6/site-packages/tensorflow/python/framework/dtypes.py:519: FutureWarning: Passing (type, 1) or '1type' as a synonym of type is deprecated; in a future version of numpy, it will be understood as (type, (1,)) / '(1,)type'.\n",
      "  _np_quint16 = np.dtype([(\"quint16\", np.uint16, 1)])\n",
      "/opt/conda/lib/python3.6/site-packages/tensorflow/python/framework/dtypes.py:520: FutureWarning: Passing (type, 1) or '1type' as a synonym of type is deprecated; in a future version of numpy, it will be understood as (type, (1,)) / '(1,)type'.\n",
      "  _np_qint32 = np.dtype([(\"qint32\", np.int32, 1)])\n",
      "/opt/conda/lib/python3.6/site-packages/tensorflow/python/framework/dtypes.py:525: FutureWarning: Passing (type, 1) or '1type' as a synonym of type is deprecated; in a future version of numpy, it will be understood as (type, (1,)) / '(1,)type'.\n",
      "  np_resource = np.dtype([(\"resource\", np.ubyte, 1)])\n",
      "/opt/conda/lib/python3.6/site-packages/tensorboard/compat/tensorflow_stub/dtypes.py:541: FutureWarning: Passing (type, 1) or '1type' as a synonym of type is deprecated; in a future version of numpy, it will be understood as (type, (1,)) / '(1,)type'.\n",
      "  _np_qint8 = np.dtype([(\"qint8\", np.int8, 1)])\n",
      "/opt/conda/lib/python3.6/site-packages/tensorboard/compat/tensorflow_stub/dtypes.py:542: FutureWarning: Passing (type, 1) or '1type' as a synonym of type is deprecated; in a future version of numpy, it will be understood as (type, (1,)) / '(1,)type'.\n",
      "  _np_quint8 = np.dtype([(\"quint8\", np.uint8, 1)])\n",
      "/opt/conda/lib/python3.6/site-packages/tensorboard/compat/tensorflow_stub/dtypes.py:543: FutureWarning: Passing (type, 1) or '1type' as a synonym of type is deprecated; in a future version of numpy, it will be understood as (type, (1,)) / '(1,)type'.\n",
      "  _np_qint16 = np.dtype([(\"qint16\", np.int16, 1)])\n",
      "/opt/conda/lib/python3.6/site-packages/tensorboard/compat/tensorflow_stub/dtypes.py:544: FutureWarning: Passing (type, 1) or '1type' as a synonym of type is deprecated; in a future version of numpy, it will be understood as (type, (1,)) / '(1,)type'.\n",
      "  _np_quint16 = np.dtype([(\"quint16\", np.uint16, 1)])\n",
      "/opt/conda/lib/python3.6/site-packages/tensorboard/compat/tensorflow_stub/dtypes.py:545: FutureWarning: Passing (type, 1) or '1type' as a synonym of type is deprecated; in a future version of numpy, it will be understood as (type, (1,)) / '(1,)type'.\n",
      "  _np_qint32 = np.dtype([(\"qint32\", np.int32, 1)])\n",
      "/opt/conda/lib/python3.6/site-packages/tensorboard/compat/tensorflow_stub/dtypes.py:550: FutureWarning: Passing (type, 1) or '1type' as a synonym of type is deprecated; in a future version of numpy, it will be understood as (type, (1,)) / '(1,)type'.\n",
      "  np_resource = np.dtype([(\"resource\", np.ubyte, 1)])\n"
     ]
    }
   ],
   "source": [
    "submission['isFraud'] = (0.20*m15.isFraud) + \\\n",
    "                        (0.20*m17.isFraud) + \\\n",
    "                        (0.20*m18.isFraud) + \\\n",
    "                        (0.20*m19.isFraud) + \\\n",
    "                        (0.10)*m20.isFraud + \\\n",
    "                        (0.10*m16.isFraud) + \\\n",
    "                        (0.0*m0.isFraud)       \n",
    "                        \n",
    "submission.to_csv('my_blend_5.csv', index=False)"
   ]
  }
 ],
 "metadata": {
  "kernelspec": {
   "display_name": "Python 3",
   "language": "python",
   "name": "python3"
  },
  "language_info": {
   "codemirror_mode": {
    "name": "ipython",
    "version": 3
   },
   "file_extension": ".py",
   "mimetype": "text/x-python",
   "name": "python",
   "nbconvert_exporter": "python",
   "pygments_lexer": "ipython3",
   "version": "3.6.6"
  }
 },
 "nbformat": 4,
 "nbformat_minor": 1
}
